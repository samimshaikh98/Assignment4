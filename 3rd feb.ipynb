{
 "cells": [
  {
   "cell_type": "markdown",
   "id": "ded19612-1f33-44c4-9163-b2cb478a4804",
   "metadata": {},
   "source": [
    "3rd feb assignment"
   ]
  },
  {
   "cell_type": "markdown",
   "id": "eb31bff3-4d50-4d99-8901-46df9ca295e7",
   "metadata": {},
   "source": [
    "\n",
    "Q1. Which keyword is used to create a function? Create a function to return a list of odd numbers in the\n",
    "range of 1 to 25."
   ]
  },
  {
   "cell_type": "markdown",
   "id": "b32c8685-6acf-49fd-958a-92c567ca3861",
   "metadata": {},
   "source": [
    "The keyword def is used to create a function in Python."
   ]
  },
  {
   "cell_type": "code",
   "execution_count": 4,
   "id": "c4894c78-1b7e-4487-8baa-6df29ec83527",
   "metadata": {},
   "outputs": [
    {
     "name": "stdout",
     "output_type": "stream",
     "text": [
      "Odd numbers from 1 to 25: [1, 3, 5, 7, 9, 11, 13, 15, 17, 19, 21, 23, 25]\n"
     ]
    }
   ],
   "source": [
    "def odd_numbers():\n",
    "    odd_list = []\n",
    "    for i in range(1, 26):\n",
    "        if i % 2 != 0:\n",
    "            odd_list.append(i)\n",
    "    return odd_list\n",
    "\n",
    "odd_num = odd_numbers()\n",
    "print(\"Odd numbers from 1 to 25:\", odd_num)\n"
   ]
  },
  {
   "cell_type": "markdown",
   "id": "42e62154-5823-48fc-af10-26b62fd6b3a3",
   "metadata": {},
   "source": [
    "\n",
    "Q2. Why *args and **kwargs is used in some functions? Create a function each for *args and **kwargs\n",
    "to demonstrate their use."
   ]
  },
  {
   "cell_type": "markdown",
   "id": "89e056b2-73cf-4269-a7de-d08cac87b6b8",
   "metadata": {},
   "source": [
    "*args and **kwargs are used in functions to allow them to accept a variable number of arguments. The syntax *args allows a function to take any number of non-keyword arguments and **kwargs allows a function to take any number of keyword arguments"
   ]
  },
  {
   "cell_type": "code",
   "execution_count": 8,
   "id": "59c4ac6b-3091-4772-97a9-315fe4a95f6b",
   "metadata": {},
   "outputs": [
    {
     "name": "stdout",
     "output_type": "stream",
     "text": [
      "1\n",
      "2\n",
      "3\n",
      "4\n",
      "5\n"
     ]
    }
   ],
   "source": [
    "def print_args(*args):\n",
    "    for arg in args:\n",
    "        print(arg)\n",
    "\n",
    "print_args(1, 2, 3, 4, 5)\n"
   ]
  },
  {
   "cell_type": "code",
   "execution_count": 9,
   "id": "148ce1d3-4b04-448e-8522-b713304a7bb8",
   "metadata": {},
   "outputs": [
    {
     "name": "stdout",
     "output_type": "stream",
     "text": [
      "name : John\n",
      "age : 30\n",
      "city : London\n"
     ]
    }
   ],
   "source": [
    "def print_kwargs(**kwargs):\n",
    "    for key, value in kwargs.items():\n",
    "        print(f\"{key} : {value}\")\n",
    "\n",
    "print_kwargs(name=\"John\", age=30, city=\"London\")\n"
   ]
  },
  {
   "cell_type": "markdown",
   "id": "e556090c-39a9-435c-87d2-906dea981495",
   "metadata": {},
   "source": [
    "Q3. What is an iterator in python? Name the method used to initialise the iterator object and the method\n",
    "used for iteration. Use these methods to print the first five elements of the given list [2, 4, 6, 8, 10, 12, 14,\n",
    "16, 18, 20]."
   ]
  },
  {
   "cell_type": "markdown",
   "id": "7565b3a0-fad3-4eaa-852e-c23ff5140be8",
   "metadata": {},
   "source": [
    "\n",
    "In Python, an iterator is an object that implements the iterator protocol, which consists of the methods __iter__() and __next__(). An object is called iterable if we can get an iterator from it.\n",
    "\n",
    "The method used to initialize an iterator object is iter() and the method used for iteration is next()."
   ]
  },
  {
   "cell_type": "code",
   "execution_count": 10,
   "id": "8c454ec8-4323-4fd4-803e-fa216beb76ec",
   "metadata": {},
   "outputs": [
    {
     "name": "stdout",
     "output_type": "stream",
     "text": [
      "2\n",
      "4\n",
      "6\n",
      "8\n",
      "10\n"
     ]
    }
   ],
   "source": [
    "numbers = [2, 4, 6, 8, 10, 12, 14, 16, 18, 20]\n",
    "\n",
    "# Create an iterator object\n",
    "numbers_iter = iter(numbers)\n",
    "\n",
    "# Iterate over the first 5 elements\n",
    "for i in range(5):\n",
    "    print(next(numbers_iter))\n"
   ]
  },
  {
   "cell_type": "markdown",
   "id": "698d9315-9f58-4d7c-968f-b68ae3f0d981",
   "metadata": {},
   "source": [
    "Q4. What is a generator function in python? Why yield keyword is used? Give an example of a generator\n",
    "function."
   ]
  },
  {
   "cell_type": "markdown",
   "id": "1794a490-beaf-4965-8dc8-899dbc522edc",
   "metadata": {},
   "source": [
    "Agenerator function is a special kind of function in Python that generates values one at a time. It uses the yield keyword instead of return to produce values, allowing it to return multiple values instead of just a single value.\n",
    "\n",
    "The yield keyword is used in generator functions to produce a value and pause execution of the function. When the function is called again, it resumes execution from the point where it was paused and continues until it encounters another yield statement or reaches the end of the function."
   ]
  },
  {
   "cell_type": "code",
   "execution_count": 13,
   "id": "d9b21d65-5bd4-4626-aca8-f530da4bfc67",
   "metadata": {},
   "outputs": [
    {
     "name": "stdout",
     "output_type": "stream",
     "text": [
      "1\n",
      "4\n",
      "9\n",
      "16\n",
      "25\n"
     ]
    }
   ],
   "source": [
    "def square_generator(n):\n",
    "    for i in range(1, n+1):\n",
    "        yield i*i\n",
    "\n",
    "squared_numbers = square_generator(5)\n",
    "\n",
    "for num in squared_numbers:\n",
    "    print(num)\n"
   ]
  },
  {
   "cell_type": "markdown",
   "id": "d73ed212-82b0-473b-bde0-837df861d2d4",
   "metadata": {},
   "source": [
    "Q5. Create a generator function for prime numbers less than 1000. Use the next() method to print the\n",
    "first 20 prime numbers."
   ]
  },
  {
   "cell_type": "code",
   "execution_count": 14,
   "id": "9bda0267-a72b-4d0b-8ebb-77bbf4e604a4",
   "metadata": {},
   "outputs": [
    {
     "name": "stdout",
     "output_type": "stream",
     "text": [
      "2\n",
      "3\n",
      "5\n",
      "7\n",
      "11\n",
      "13\n",
      "17\n",
      "19\n",
      "23\n",
      "29\n",
      "31\n",
      "37\n",
      "41\n",
      "43\n",
      "47\n",
      "53\n",
      "59\n",
      "61\n",
      "67\n",
      "71\n"
     ]
    }
   ],
   "source": [
    "def prime_numbers_generator():\n",
    "    primes = []\n",
    "    for num in range(2, 1000):\n",
    "        for prime in primes:\n",
    "            if num % prime == 0:\n",
    "                break\n",
    "        else:\n",
    "            primes.append(num)\n",
    "            yield num\n",
    "\n",
    "prime_numbers = prime_numbers_generator()\n",
    "\n",
    "for i in range(20):\n",
    "    print(next(prime_numbers))\n"
   ]
  },
  {
   "cell_type": "markdown",
   "id": "1ff0afda-db0f-4250-9f9b-e42f02d5cb18",
   "metadata": {},
   "source": [
    "Q6. Write a python program to print the first 10 Fibonacci numbers using a while loop."
   ]
  },
  {
   "cell_type": "code",
   "execution_count": 15,
   "id": "ec22bf85-7013-4340-8c43-7b2f725ff4c2",
   "metadata": {},
   "outputs": [
    {
     "name": "stdout",
     "output_type": "stream",
     "text": [
      "0\n",
      "1\n",
      "1\n",
      "2\n",
      "3\n",
      "5\n",
      "8\n",
      "13\n",
      "21\n",
      "34\n"
     ]
    }
   ],
   "source": [
    "def fibonacci_numbers():\n",
    "    a, b = 0, 1\n",
    "    while True:\n",
    "        yield a\n",
    "        a, b = b, a + b\n",
    "\n",
    "fibonacci = fibonacci_numbers()\n",
    "\n",
    "for i in range(10):\n",
    "    print(next(fibonacci))\n"
   ]
  },
  {
   "cell_type": "markdown",
   "id": "d0d1e2f2-14e8-445e-8b29-e9ee3bab89f8",
   "metadata": {},
   "source": [
    "Q7. Write a List Comprehension to iterate through the given string: ‘pwskills’.\n",
    "Expected output: ['p', 'w', 's', 'k', 'i', 'l', 'l', 's']"
   ]
  },
  {
   "cell_type": "code",
   "execution_count": 18,
   "id": "651d72c8-2053-41ab-b8eb-4be7af669264",
   "metadata": {},
   "outputs": [],
   "source": [
    "a = 'pwskills'\n",
    "a= [i for i in a]\n",
    "\n"
   ]
  },
  {
   "cell_type": "code",
   "execution_count": 19,
   "id": "b6c8eedc-5c0b-4f70-9b55-309786b36536",
   "metadata": {},
   "outputs": [
    {
     "data": {
      "text/plain": [
       "['p', 'w', 's', 'k', 'i', 'l', 'l', 's']"
      ]
     },
     "execution_count": 19,
     "metadata": {},
     "output_type": "execute_result"
    }
   ],
   "source": [
    "a"
   ]
  },
  {
   "cell_type": "markdown",
   "id": "70aa27ec-f12e-4f8f-bc25-1e3011058d47",
   "metadata": {},
   "source": [
    "Q8. Write a python program to check whether a given number is Palindrome or not using a while loop."
   ]
  },
  {
   "cell_type": "code",
   "execution_count": 1,
   "id": "a56f66b1-1d48-4f40-b8d5-889d8b2f1e8a",
   "metadata": {},
   "outputs": [
    {
     "name": "stdin",
     "output_type": "stream",
     "text": [
      "Enter a number:  32\n"
     ]
    },
    {
     "name": "stdout",
     "output_type": "stream",
     "text": [
      "32 is not a palindrome\n"
     ]
    }
   ],
   "source": [
    "def is_palindrome(num):\n",
    "    temp = num\n",
    "    reverse = 0\n",
    "    while temp > 0:\n",
    "        reverse = (reverse * 10) + (temp % 10)\n",
    "        temp //= 10\n",
    "    return num == reverse\n",
    "\n",
    "number = int(input(\"Enter a number: \"))\n",
    "if is_palindrome(number):\n",
    "    print(f\"{number} is a palindrome\")\n",
    "else:\n",
    "    print(f\"{number} is not a palindrome\")\n"
   ]
  },
  {
   "cell_type": "markdown",
   "id": "9a1e86e2-9c7c-4562-8abf-04d8ae29830c",
   "metadata": {},
   "source": [
    "Q9. Write a code to print odd numbers from 1 to 100 using list comprehension.\n",
    "Note: Use a list comprehension to create a list from 1 to 100 and use another List comprehension to filter\n",
    "out odd numbers."
   ]
  },
  {
   "cell_type": "code",
   "execution_count": 4,
   "id": "dfba3aac-d170-483a-87e1-43ffba59768a",
   "metadata": {},
   "outputs": [
    {
     "name": "stdout",
     "output_type": "stream",
     "text": [
      "[1, 3, 5, 7, 9, 11, 13, 15, 17, 19, 21, 23, 25, 27, 29, 31, 33, 35, 37, 39, 41, 43, 45, 47, 49, 51, 53, 55, 57, 59, 61, 63, 65, 67, 69, 71, 73, 75, 77, 79, 81, 83, 85, 87, 89, 91, 93, 95, 97, 99]\n"
     ]
    }
   ],
   "source": [
    "a = [i for i in range(1, 101) if i % 2 != 0]\n",
    "print(a)\n"
   ]
  },
  {
   "cell_type": "code",
   "execution_count": null,
   "id": "8f31b9e4-31d0-4202-b9af-e3a415bc331b",
   "metadata": {},
   "outputs": [],
   "source": []
  }
 ],
 "metadata": {
  "kernelspec": {
   "display_name": "Python 3 (ipykernel)",
   "language": "python",
   "name": "python3"
  },
  "language_info": {
   "codemirror_mode": {
    "name": "ipython",
    "version": 3
   },
   "file_extension": ".py",
   "mimetype": "text/x-python",
   "name": "python",
   "nbconvert_exporter": "python",
   "pygments_lexer": "ipython3",
   "version": "3.10.8"
  }
 },
 "nbformat": 4,
 "nbformat_minor": 5
}
